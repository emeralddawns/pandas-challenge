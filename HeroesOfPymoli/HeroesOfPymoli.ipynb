{
 "cells": [
  {
   "cell_type": "code",
   "execution_count": 1,
   "id": "04a53d77-a1ff-4027-aab5-c035a2fa11f2",
   "metadata": {},
   "outputs": [],
   "source": [
    "# Dependencies and Setup\n",
    "import pandas as pd\n",
    "import numpy as np\n",
    "import os"
   ]
  },
  {
   "cell_type": "code",
   "execution_count": 2,
   "id": "021b6f25-5757-4d3a-a715-61b1a169aa6a",
   "metadata": {},
   "outputs": [],
   "source": [
    "# File to Load (Remember to Change These)\n",
    "data_file = os.path.join(\"Resources\", \"purchase_data.csv\")"
   ]
  },
  {
   "cell_type": "code",
   "execution_count": 3,
   "id": "82775584-40ba-40bd-880d-5024060a1cd3",
   "metadata": {},
   "outputs": [],
   "source": [
    "# Read Purchasing File and store into Pandas data frame\n",
    "data_file_df = pd.read_csv(data_file, encoding=\"utf-8\")"
   ]
  },
  {
   "cell_type": "code",
   "execution_count": 4,
   "id": "3e72437b-1a98-4891-af5c-38593835e297",
   "metadata": {},
   "outputs": [
    {
     "data": {
      "text/html": [
       "<div>\n",
       "<style scoped>\n",
       "    .dataframe tbody tr th:only-of-type {\n",
       "        vertical-align: middle;\n",
       "    }\n",
       "\n",
       "    .dataframe tbody tr th {\n",
       "        vertical-align: top;\n",
       "    }\n",
       "\n",
       "    .dataframe thead th {\n",
       "        text-align: right;\n",
       "    }\n",
       "</style>\n",
       "<table border=\"1\" class=\"dataframe\">\n",
       "  <thead>\n",
       "    <tr style=\"text-align: right;\">\n",
       "      <th></th>\n",
       "      <th>Purchase ID</th>\n",
       "      <th>SN</th>\n",
       "      <th>Age</th>\n",
       "      <th>Gender</th>\n",
       "      <th>Item ID</th>\n",
       "      <th>Item Name</th>\n",
       "      <th>Price</th>\n",
       "    </tr>\n",
       "  </thead>\n",
       "  <tbody>\n",
       "    <tr>\n",
       "      <th>0</th>\n",
       "      <td>0</td>\n",
       "      <td>Lisim78</td>\n",
       "      <td>20</td>\n",
       "      <td>Male</td>\n",
       "      <td>108</td>\n",
       "      <td>Extraction, Quickblade Of Trembling Hands</td>\n",
       "      <td>3.53</td>\n",
       "    </tr>\n",
       "    <tr>\n",
       "      <th>1</th>\n",
       "      <td>1</td>\n",
       "      <td>Lisovynya38</td>\n",
       "      <td>40</td>\n",
       "      <td>Male</td>\n",
       "      <td>143</td>\n",
       "      <td>Frenzied Scimitar</td>\n",
       "      <td>1.56</td>\n",
       "    </tr>\n",
       "    <tr>\n",
       "      <th>2</th>\n",
       "      <td>2</td>\n",
       "      <td>Ithergue48</td>\n",
       "      <td>24</td>\n",
       "      <td>Male</td>\n",
       "      <td>92</td>\n",
       "      <td>Final Critic</td>\n",
       "      <td>4.88</td>\n",
       "    </tr>\n",
       "    <tr>\n",
       "      <th>3</th>\n",
       "      <td>3</td>\n",
       "      <td>Chamassasya86</td>\n",
       "      <td>24</td>\n",
       "      <td>Male</td>\n",
       "      <td>100</td>\n",
       "      <td>Blindscythe</td>\n",
       "      <td>3.27</td>\n",
       "    </tr>\n",
       "    <tr>\n",
       "      <th>4</th>\n",
       "      <td>4</td>\n",
       "      <td>Iskosia90</td>\n",
       "      <td>23</td>\n",
       "      <td>Male</td>\n",
       "      <td>131</td>\n",
       "      <td>Fury</td>\n",
       "      <td>1.44</td>\n",
       "    </tr>\n",
       "  </tbody>\n",
       "</table>\n",
       "</div>"
      ],
      "text/plain": [
       "   Purchase ID             SN  Age Gender  Item ID  \\\n",
       "0            0        Lisim78   20   Male      108   \n",
       "1            1    Lisovynya38   40   Male      143   \n",
       "2            2     Ithergue48   24   Male       92   \n",
       "3            3  Chamassasya86   24   Male      100   \n",
       "4            4      Iskosia90   23   Male      131   \n",
       "\n",
       "                                   Item Name  Price  \n",
       "0  Extraction, Quickblade Of Trembling Hands   3.53  \n",
       "1                          Frenzied Scimitar   1.56  \n",
       "2                               Final Critic   4.88  \n",
       "3                                Blindscythe   3.27  \n",
       "4                                       Fury   1.44  "
      ]
     },
     "execution_count": 4,
     "metadata": {},
     "output_type": "execute_result"
    }
   ],
   "source": [
    "data_file_df.head()"
   ]
  },
  {
   "cell_type": "code",
   "execution_count": 5,
   "id": "16cfe2f2-44c5-4ee1-a3e2-af4c2b21f615",
   "metadata": {},
   "outputs": [
    {
     "data": {
      "text/plain": [
       "Purchase ID    780\n",
       "SN             780\n",
       "Age            780\n",
       "Gender         780\n",
       "Item ID        780\n",
       "Item Name      780\n",
       "Price          780\n",
       "dtype: int64"
      ]
     },
     "execution_count": 5,
     "metadata": {},
     "output_type": "execute_result"
    }
   ],
   "source": [
    "#Verify that there aren't missing entries\n",
    "data_file_df.count()"
   ]
  },
  {
   "cell_type": "code",
   "execution_count": 6,
   "id": "e7ccb14a-0ed5-4291-840b-6d22a900d82b",
   "metadata": {},
   "outputs": [
    {
     "data": {
      "text/html": [
       "<div>\n",
       "<style scoped>\n",
       "    .dataframe tbody tr th:only-of-type {\n",
       "        vertical-align: middle;\n",
       "    }\n",
       "\n",
       "    .dataframe tbody tr th {\n",
       "        vertical-align: top;\n",
       "    }\n",
       "\n",
       "    .dataframe thead th {\n",
       "        text-align: right;\n",
       "    }\n",
       "</style>\n",
       "<table border=\"1\" class=\"dataframe\">\n",
       "  <thead>\n",
       "    <tr style=\"text-align: right;\">\n",
       "      <th></th>\n",
       "      <th>Total Players</th>\n",
       "    </tr>\n",
       "  </thead>\n",
       "  <tbody>\n",
       "    <tr>\n",
       "      <th>0</th>\n",
       "      <td>576</td>\n",
       "    </tr>\n",
       "  </tbody>\n",
       "</table>\n",
       "</div>"
      ],
      "text/plain": [
       "   Total Players\n",
       "0            576"
      ]
     },
     "execution_count": 6,
     "metadata": {},
     "output_type": "execute_result"
    }
   ],
   "source": [
    "#Find the total number of unique players, create a data frame for the information, print out data frame\n",
    "total_players = len(data_file_df[\"SN\"].unique())\n",
    "total_players_df = pd.DataFrame({\"Total Players\": [total_players]})\n",
    "total_players_df"
   ]
  },
  {
   "cell_type": "code",
   "execution_count": 64,
   "id": "08a9bff7-4362-4311-ab26-3d326ea0a38c",
   "metadata": {
    "tags": []
   },
   "outputs": [],
   "source": [
    "#For formatting money\n",
    "def money (x):\n",
    "    return \"${:,.2f}\".format(x)"
   ]
  },
  {
   "cell_type": "code",
   "execution_count": 79,
   "id": "6baa7051-fd42-444b-8bd4-fc607acdf9b5",
   "metadata": {},
   "outputs": [],
   "source": [
    "#The code refused to display percentages using any other method found\n",
    "def percent (x):\n",
    "    return \"{:,.2%}\".format(x)"
   ]
  },
  {
   "cell_type": "code",
   "execution_count": 80,
   "id": "af0057a0-6f6d-4217-bd6d-66026ceac65e",
   "metadata": {},
   "outputs": [],
   "source": [
    "#Calculate the values needed for the \"Purchasing Analysis (Total)\" data frame\n",
    "unique_items = len((data_file_df[\"Item Name\"].unique()))\n",
    "ave_price = data_file_df[\"Price\"].mean()\n",
    "num_purchases = len(data_file_df)\n",
    "total_revenue = data_file_df[\"Price\"].sum()"
   ]
  },
  {
   "cell_type": "code",
   "execution_count": 82,
   "id": "2b8c48e2-0f30-4dc3-9b63-8e7a6082e571",
   "metadata": {},
   "outputs": [
    {
     "ename": "AttributeError",
     "evalue": "'float' object has no attribute 'apply'",
     "output_type": "error",
     "traceback": [
      "\u001b[1;31m---------------------------------------------------------------------------\u001b[0m",
      "\u001b[1;31mAttributeError\u001b[0m                            Traceback (most recent call last)",
      "\u001b[1;32m<ipython-input-82-119ad62c2e6b>\u001b[0m in \u001b[0;36m<module>\u001b[1;34m\u001b[0m\n\u001b[0;32m      1\u001b[0m \u001b[1;31m#Create and print out the purchase summary as a data frame\u001b[0m\u001b[1;33m\u001b[0m\u001b[1;33m\u001b[0m\u001b[1;33m\u001b[0m\u001b[0m\n\u001b[0;32m      2\u001b[0m purchase_summ_df = pd.DataFrame({\"Unique Items\": [unique_items],\n\u001b[1;32m----> 3\u001b[1;33m                                  \u001b[1;34m\"Average Price\"\u001b[0m\u001b[1;33m:\u001b[0m \u001b[0mave_price\u001b[0m\u001b[1;33m.\u001b[0m\u001b[0mapply\u001b[0m\u001b[1;33m(\u001b[0m\u001b[0mmoney\u001b[0m\u001b[1;33m)\u001b[0m\u001b[1;33m,\u001b[0m\u001b[1;33m\u001b[0m\u001b[1;33m\u001b[0m\u001b[0m\n\u001b[0m\u001b[0;32m      4\u001b[0m                                  \u001b[1;34m\"Number of Purchases\"\u001b[0m\u001b[1;33m:\u001b[0m \u001b[0mnum_purchases\u001b[0m\u001b[1;33m,\u001b[0m\u001b[1;33m\u001b[0m\u001b[1;33m\u001b[0m\u001b[0m\n\u001b[0;32m      5\u001b[0m                                  \"Total Revenue\": \"${:,.2f}\".format(total_revenue)})\n",
      "\u001b[1;31mAttributeError\u001b[0m: 'float' object has no attribute 'apply'"
     ]
    }
   ],
   "source": [
    "#Create and print out the purchase summary as a data frame\n",
    "purchase_summ_df = pd.DataFrame({\"Unique Items\": [unique_items],\n",
    "                                 \"Average Price\": ave_price.apply(money),\n",
    "                                 \"Number of Purchases\": num_purchases,\n",
    "                                 \"Total Revenue\": \"${:,.2f}\".format(total_revenue)})\n",
    "\n",
    "purchase_summ_df"
   ]
  },
  {
   "cell_type": "code",
   "execution_count": 9,
   "id": "6d5b0f49-064c-4b07-b470-aa520c5df38a",
   "metadata": {},
   "outputs": [],
   "source": [
    "#Create dataframe for unique player info (SN, Age, Gender)\n",
    "player_info_df = data_file_df.drop_duplicates(subset = \"SN\")\n",
    "player_info_df = player_info_df.drop([\"Purchase ID\", \"Item ID\", \"Item Name\", \"Price\"], axis=1)"
   ]
  },
  {
   "cell_type": "code",
   "execution_count": 78,
   "id": "b5916922-2011-4cf4-9cf6-308db6960161",
   "metadata": {},
   "outputs": [
    {
     "data": {
      "text/html": [
       "<div>\n",
       "<style scoped>\n",
       "    .dataframe tbody tr th:only-of-type {\n",
       "        vertical-align: middle;\n",
       "    }\n",
       "\n",
       "    .dataframe tbody tr th {\n",
       "        vertical-align: top;\n",
       "    }\n",
       "\n",
       "    .dataframe thead th {\n",
       "        text-align: right;\n",
       "    }\n",
       "</style>\n",
       "<table border=\"1\" class=\"dataframe\">\n",
       "  <thead>\n",
       "    <tr style=\"text-align: right;\">\n",
       "      <th></th>\n",
       "      <th>Total Count</th>\n",
       "      <th>Percentage of Players</th>\n",
       "    </tr>\n",
       "  </thead>\n",
       "  <tbody>\n",
       "    <tr>\n",
       "      <th>Male</th>\n",
       "      <td>484</td>\n",
       "      <td>84.03%</td>\n",
       "    </tr>\n",
       "    <tr>\n",
       "      <th>Female</th>\n",
       "      <td>81</td>\n",
       "      <td>14.06%</td>\n",
       "    </tr>\n",
       "    <tr>\n",
       "      <th>Other / Non-Disclosed</th>\n",
       "      <td>11</td>\n",
       "      <td>1.91%</td>\n",
       "    </tr>\n",
       "  </tbody>\n",
       "</table>\n",
       "</div>"
      ],
      "text/plain": [
       "                       Total Count Percentage of Players\n",
       "Male                           484                84.03%\n",
       "Female                          81                14.06%\n",
       "Other / Non-Disclosed           11                 1.91%"
      ]
     },
     "execution_count": 78,
     "metadata": {},
     "output_type": "execute_result"
    }
   ],
   "source": [
    "#Create dataframe for the analysis by gender\n",
    "gender_total = player_info_df[\"Gender\"].value_counts()  #total number of unique players by gender (M + F + U)\n",
    "gender_percent = ((gender_total / total_players))\n",
    "\n",
    "gender_df = pd.DataFrame({\"Total Count\": gender_total,\n",
    "                          \"Percentage of Players\": gender_percent.apply(percent)})\n",
    "\n",
    "#TODO: Format \"Percentage of Players\" as percentages\n",
    "\n",
    "gender_df"
   ]
  },
  {
   "cell_type": "code",
   "execution_count": 66,
   "id": "d69df199-3074-40ca-93b4-ba7062b234d5",
   "metadata": {
    "tags": []
   },
   "outputs": [
    {
     "data": {
      "text/html": [
       "<div>\n",
       "<style scoped>\n",
       "    .dataframe tbody tr th:only-of-type {\n",
       "        vertical-align: middle;\n",
       "    }\n",
       "\n",
       "    .dataframe tbody tr th {\n",
       "        vertical-align: top;\n",
       "    }\n",
       "\n",
       "    .dataframe thead th {\n",
       "        text-align: right;\n",
       "    }\n",
       "</style>\n",
       "<table border=\"1\" class=\"dataframe\">\n",
       "  <thead>\n",
       "    <tr style=\"text-align: right;\">\n",
       "      <th></th>\n",
       "      <th>Purchase Count</th>\n",
       "      <th>Average Purchase Price</th>\n",
       "      <th>Total Purchase Value</th>\n",
       "      <th>Avg Total Purchase per Person</th>\n",
       "    </tr>\n",
       "    <tr>\n",
       "      <th>Gender</th>\n",
       "      <th></th>\n",
       "      <th></th>\n",
       "      <th></th>\n",
       "      <th></th>\n",
       "    </tr>\n",
       "  </thead>\n",
       "  <tbody>\n",
       "    <tr>\n",
       "      <th>Male</th>\n",
       "      <td>652</td>\n",
       "      <td>$3.02</td>\n",
       "      <td>$1,967.64</td>\n",
       "      <td>$4.07</td>\n",
       "    </tr>\n",
       "    <tr>\n",
       "      <th>Female</th>\n",
       "      <td>113</td>\n",
       "      <td>$3.20</td>\n",
       "      <td>$361.94</td>\n",
       "      <td>$4.47</td>\n",
       "    </tr>\n",
       "    <tr>\n",
       "      <th>Other / Non-Disclosed</th>\n",
       "      <td>15</td>\n",
       "      <td>$3.35</td>\n",
       "      <td>$50.19</td>\n",
       "      <td>$4.56</td>\n",
       "    </tr>\n",
       "  </tbody>\n",
       "</table>\n",
       "</div>"
      ],
      "text/plain": [
       "                       Purchase Count Average Purchase Price  \\\n",
       "Gender                                                         \n",
       "Male                              652                  $3.02   \n",
       "Female                            113                  $3.20   \n",
       "Other / Non-Disclosed              15                  $3.35   \n",
       "\n",
       "                      Total Purchase Value Avg Total Purchase per Person  \n",
       "Gender                                                                    \n",
       "Male                             $1,967.64                         $4.07  \n",
       "Female                             $361.94                         $4.47  \n",
       "Other / Non-Disclosed               $50.19                         $4.56  "
      ]
     },
     "execution_count": 66,
     "metadata": {},
     "output_type": "execute_result"
    }
   ],
   "source": [
    "# DF with pertinent gender and purchase information\n",
    "gender_data_df = data_file_df[[\"Gender\", \"Price\"]]\n",
    "\n",
    "#Calculate Values for Purchase Count\n",
    "purchase_gender_count = gender_data_df[\"Gender\"].value_counts()\n",
    "\n",
    "#Create index and first column of gender analysis data frame, initialize data frame here to cut down on variable names\n",
    "gender_summ_df = pd.DataFrame({\"Purchase Count\": purchase_gender_count})\n",
    "gender_summ_df.index.name = \"Gender\"\n",
    "\n",
    "# Create the column for \"Average Purchase Price\"\n",
    "gender_summ_df[\"Average Purchase Price\"] = gender_data_df.groupby([\"Gender\"]).mean()\n",
    "gender_summ_df[\"Average Purchase Price\"] = gender_summ_df[\"Average Purchase Price\"].apply(money)\n",
    "\n",
    "#Create the column for \"Total Purchase Value\"\n",
    "gender_summ_df[\"Total Purchase Value\"] = gender_data_df.groupby([\"Gender\"]).sum()\n",
    "gender_summ_df[\"Total Purchase Value\"] = gender_summ_df[\"Total Purchase Value\"].apply(money)\n",
    "\n",
    "#Create the column for Avg Purchase Total per Person by Gender\n",
    "gender_summ_df[\"Avg Total Purchase per Person\"] = purchase_gender_sum_df[\"Price\"] / gender_total\n",
    "gender_summ_df[\"Avg Total Purchase per Person\"] = gender_summ_df[\"Avg Total Purchase per Person\"].apply(money)\n",
    "\n",
    "#Display Purchasing Analysis (Gender)\n",
    "gender_summ_df"
   ]
  },
  {
   "cell_type": "code",
   "execution_count": null,
   "id": "172e9e66-4270-4859-8e08-f4259454022b",
   "metadata": {},
   "outputs": [],
   "source": []
  },
  {
   "cell_type": "code",
   "execution_count": null,
   "id": "682c215c-7d6a-4159-8a83-fece9f045c36",
   "metadata": {},
   "outputs": [],
   "source": []
  },
  {
   "cell_type": "code",
   "execution_count": 49,
   "id": "1ef69bb7-08bb-4ecf-82c2-9c4e021fe347",
   "metadata": {},
   "outputs": [],
   "source": []
  }
 ],
 "metadata": {
  "kernelspec": {
   "display_name": "Python 3",
   "language": "python",
   "name": "python3"
  },
  "language_info": {
   "codemirror_mode": {
    "name": "ipython",
    "version": 3
   },
   "file_extension": ".py",
   "mimetype": "text/x-python",
   "name": "python",
   "nbconvert_exporter": "python",
   "pygments_lexer": "ipython3",
   "version": "3.8.8"
  }
 },
 "nbformat": 4,
 "nbformat_minor": 5
}
